{
 "cells": [
  {
   "cell_type": "code",
   "execution_count": 852,
   "metadata": {},
   "outputs": [],
   "source": [
    "#import libraries\n",
    "import pandas as pd\n",
    "import numpy as np\n",
    "import spacy\n",
    "import langid\n",
    "import langdetect\n",
    "import nltk\n",
    "from nltk.stem import PorterStemmer\n",
    "from sklearn.model_selection import train_test_split\n",
    "from sklearn.feature_extraction.text import TfidfVectorizer\n",
    "from sklearn.metrics import accuracy_score\n",
    "\n",
    "\n",
    "\n",
    "from nltk.tokenize import sent_tokenize, word_tokenize\n",
    "\n",
    "\n"
   ]
  },
  {
   "cell_type": "code",
   "execution_count": 853,
   "metadata": {},
   "outputs": [
    {
     "name": "stdout",
     "output_type": "stream",
     "text": [
      "<class 'pandas.core.frame.DataFrame'>\n",
      "RangeIndex: 996 entries, 0 to 995\n",
      "Data columns (total 7 columns):\n",
      "Category      368 non-null float64\n",
      "Question      368 non-null object\n",
      "Unnamed: 2    0 non-null float64\n",
      "Unnamed: 3    0 non-null float64\n",
      "Unnamed: 4    0 non-null float64\n",
      "Unnamed: 5    0 non-null float64\n",
      "Unnamed: 6    0 non-null float64\n",
      "dtypes: float64(6), object(1)\n",
      "memory usage: 49.6+ KB\n"
     ]
    }
   ],
   "source": [
    "#import stopwords and data\n",
    "from nltk.corpus import stopwords\n",
    "\n",
    "\n",
    "import matplotlib.pyplot as plt\n",
    "from nltk.classify.textcat import TextCat\n",
    "data = pd.read_csv(\"https://d3972zdc1g7j5a.cloudfront.net/uploads/DataScienceTask/questions.csv\")\n",
    "data['Question'].dropna(inplace=True)\n",
    "\n",
    "data.info()\n"
   ]
  },
  {
   "cell_type": "code",
   "execution_count": 854,
   "metadata": {},
   "outputs": [],
   "source": [
    "# Drop Unnamed2,3,4,5 and 6\n",
    "data = data[['Question','Category']].copy()"
   ]
  },
  {
   "cell_type": "code",
   "execution_count": 855,
   "metadata": {},
   "outputs": [
    {
     "name": "stdout",
     "output_type": "stream",
     "text": [
      "<class 'pandas.core.frame.DataFrame'>\n",
      "RangeIndex: 996 entries, 0 to 995\n",
      "Data columns (total 2 columns):\n",
      "Question    368 non-null object\n",
      "Category    368 non-null float64\n",
      "dtypes: float64(1), object(1)\n",
      "memory usage: 15.6+ KB\n"
     ]
    }
   ],
   "source": [
    "data.info()"
   ]
  },
  {
   "cell_type": "code",
   "execution_count": 856,
   "metadata": {},
   "outputs": [],
   "source": [
    "# Add new Hindi stopwords\n",
    "sr = stopwords.words('english')\n",
    "sr.append('के')\n",
    "sr.append('का')\n",
    "sr.append('एक')\n",
    "sr.append('में')\n",
    "sr.append('की')\n",
    "sr.append('है')\n",
    "sr.append('यह')\n",
    "sr.append('और')\n",
    "sr.append('से')\n",
    "sr.append('हैं')\n",
    "sr.append('को')\n",
    "sr.append('पर')\n",
    "sr.append('इस')\n",
    "sr.append('होता')\n",
    "sr.append('कि')\n",
    "sr.append('जो')\n",
    "sr.append('कर')\n",
    "sr.append('मे')\n",
    "sr.append('गया')\n",
    "sr.append('करने')\n",
    "sr.append('किया')\n",
    "sr.append('लिये')\n",
    "sr.append('अपने')\n",
    "sr.append('ने')\n",
    "sr.append('बनी')\n",
    "sr.append('नहीं')\n",
    "sr.append('तो')\n",
    "sr.append('ही')\n",
    "sr.append('या')\n",
    "sr.append('एवं')\n",
    "sr.append('दिया')\n",
    "sr.append('हो')\n",
    "sr.append('इसका')\n",
    "sr.append('था')\n",
    "sr.append('द्वारा')\n",
    "sr.append('हुआ')\n",
    "sr.append('तक')\n",
    "sr.append('साथ')\n",
    "sr.append('करना')\n",
    "sr.append('वाले')\n",
    "sr.append('बाद')\n",
    "sr.append('लिए')\n",
    "sr.append('आप')\n",
    "sr.append('कुछ')\n",
    "sr.append('सकते')\n",
    "sr.append('किसी')\n",
    "sr.append('ये')\n",
    "sr.append('इसके')\n",
    "sr.append('सबसे')\n",
    "sr.append('इसमें')\n",
    "sr.append('थे')\n",
    "sr.append('दो')\n",
    "sr.append('होने')\n",
    "sr.append('वह')\n",
    "sr.append('वे')\n",
    "sr.append('करते')\n",
    "sr.append('बहुत')\n",
    "sr.append('कहा')\n",
    "sr.append('वर्ग')\n",
    "sr.append('कई')\n",
    "sr.append('करें')\n",
    "sr.append('होती')\n",
    "sr.append('अपनी')\n",
    "sr.append('उनके')\n",
    "sr.append('थी')\n",
    "sr.append('यदि')\n",
    "sr.append('हुई')\n",
    "sr.append('जा')\n",
    "sr.append('ना')\n",
    "sr.append('इसे')\n",
    "sr.append('कहते')\n",
    "sr.append('जब')\n",
    "sr.append('होते')\n",
    "sr.append('कोई')\n",
    "sr.append('हुए')\n",
    "sr.append('व')\n",
    "sr.append('न')\n",
    "sr.append('अभी')\n",
    "sr.append('जैसे')\n",
    "sr.append('सभी')\n",
    "sr.append('करता')\n",
    "sr.append('उनकी')\n",
    "sr.append('तरह')\n",
    "sr.append('उस')\n",
    "sr.append('आदि')\n",
    "sr.append('कुल')\n",
    "sr.append('एस')\n",
    "sr.append('रहा')\n",
    "sr.append('इसकी')\n",
    "sr.append('सकता')\n",
    "sr.append('रहे')\n",
    "sr.append('उनका')\n",
    "sr.append('इसी')\n",
    "sr.append('रखें')\n",
    "sr.append('अपना')\n",
    "sr.append('पे')\n",
    "sr.append('उसके')\n"
   ]
  },
  {
   "cell_type": "code",
   "execution_count": 857,
   "metadata": {},
   "outputs": [
    {
     "name": "stdout",
     "output_type": "stream",
     "text": [
      "Percent of data in Hindi (estimated):\n",
      "89.94565217391305\n"
     ]
    }
   ],
   "source": [
    "print(\"Percent of data in Hindi (estimated):\")\n",
    "print((sum(langs==\"hi\")/len(langs))*100)\n",
    "\n"
   ]
  },
  {
   "cell_type": "code",
   "execution_count": 858,
   "metadata": {},
   "outputs": [
    {
     "data": {
      "image/png": "[encoded data removed]",
      "text/plain": [
       "<Figure size 1440x720 with 1 Axes>"
      ]
     },
     "metadata": {
      "needs_background": "light"
     },
     "output_type": "display_data"
    }
   ],
   "source": [
    "langs_df = pd.DataFrame(langs)\n",
    "\n",
    "# count the number of times we see each language\n",
    "langs_count = langs_df.Question.value_counts()\n",
    "\n",
    "# plot of count of different languages\n",
    "langs_count.plot.bar(figsize=(20,10), fontsize=20)\n",
    "plt.show()\n"
   ]
  },
  {
   "cell_type": "code",
   "execution_count": 859,
   "metadata": {},
   "outputs": [
    {
     "name": "stdout",
     "output_type": "stream",
     "text": [
      "0    क्या बीजेपी को प्रियंका की टक्कर में वरुण गांध...\n",
      "1        Narander modi ji ka speech aapko ksa lgta h ?\n",
      "2    क्या ममता बनर्जी को धरने में बैठने से कोई फायद...\n",
      "3         भारत की राजनीति में सबसे घटिया आदमी कौन है ?\n",
      "4    अरविंद केजरीवाल को प्रधानमंत्री मोदी इतने बुरे...\n",
      "Name: Question, dtype: object\n"
     ]
    }
   ],
   "source": [
    "\n",
    "print(data['Question'].iloc[0:5])"
   ]
  },
  {
   "cell_type": "code",
   "execution_count": 860,
   "metadata": {},
   "outputs": [
    {
     "data": {
      "text/plain": [
       "(996, 2)"
      ]
     },
     "execution_count": 860,
     "metadata": {},
     "output_type": "execute_result"
    }
   ],
   "source": [
    "data.shape"
   ]
  },
  {
   "cell_type": "code",
   "execution_count": 861,
   "metadata": {},
   "outputs": [],
   "source": [
    "#remove null rows\n",
    "data = data.dropna()"
   ]
  },
  {
   "cell_type": "code",
   "execution_count": 862,
   "metadata": {},
   "outputs": [
    {
     "data": {
      "text/plain": [
       "(368, 2)"
      ]
     },
     "execution_count": 862,
     "metadata": {},
     "output_type": "execute_result"
    }
   ],
   "source": [
    "data.shape"
   ]
  },
  {
   "cell_type": "code",
   "execution_count": 863,
   "metadata": {},
   "outputs": [],
   "source": [
    "# preprocessing data ie tokenizing, removing stopwords and stemming\n",
    "words = []\n",
    "\n",
    "data['finalnew'] = ''\n",
    "def preprocessing(Question,stem=True,stop_words=True):\n",
    "    index = 0\n",
    "    for i in Question:\n",
    "        \n",
    "        #print(Question[i])\n",
    "        word1 = word_tokenize(i)\n",
    "        if stop_words:\n",
    "            word1 = [word for word in word1 if word not in sr]\n",
    "        if stem:\n",
    "            stemmer = PorterStemmer()\n",
    "            word1 = [stemmer.stem(word) for word in word1]\n",
    "        words.append(word1)\n",
    "        \n",
    "        data['finalnew'][index] =str(words[index])\n",
    "        print(words[index])\n",
    "        \n",
    "        index+=1\n",
    "        \n",
    "    #print(words)    \n",
    "    return words"
   ]
  },
  {
   "cell_type": "code",
   "execution_count": 864,
   "metadata": {},
   "outputs": [
    {
     "name": "stderr",
     "output_type": "stream",
     "text": [
      "c:\\python\\python36\\lib\\site-packages\\ipykernel_launcher.py:18: SettingWithCopyWarning: \n",
      "A value is trying to be set on a copy of a slice from a DataFrame\n",
      "\n",
      "See the caveats in the documentation: http://pandas.pydata.org/pandas-docs/stable/indexing.html#indexing-view-versus-copy\n"
     ]
    },
    {
     "name": "stdout",
     "output_type": "stream",
     "text": [
      "['क्या', 'बीजेपी', 'प्रियंका', 'टक्कर', 'वरुण', 'गांधी', 'खड़ा', 'चाहिए', 'क्यों', '?']\n",
      "['narand', 'modi', 'ji', 'ka', 'speech', 'aapko', 'ksa', 'lgta', 'h', '?']\n",
      "['क्या', 'ममता', 'बनर्जी', 'धरने', 'बैठने', 'फायदा', 'प्राप्त', 'होगा']\n",
      "['भारत', 'राजनीति', 'घटिया', 'आदमी', 'कौन', '?']\n",
      "['अरविंद', 'केजरीवाल', 'प्रधानमंत्री', 'मोदी', 'इतने', 'बुरे', 'क्यों', 'लगते', '?']\n",
      "['पीएम', 'मोदी', 'राफेल', 'सौदे', 'जुड़े', 'विपक्ष', 'सवालों', 'जवाब', 'क्यों', 'दे', '?']\n",
      "['सपा', 'बसपा', 'गठबंधन', 'कॉन्ग्रेस', 'भी', 'शामिल', 'जाए', 'क्या', 'भाजपा', 'कमजोर', 'पड़', 'जाएगी', '?', 'आपको', 'क्या', 'लगता', '?']\n",
      "['हिंदू-मुसलमान', 'विवाद', 'देश', 'किस', 'प्रकार', 'हानि', '?']\n",
      "['कौन', 'सा', 'भाषा', 'सब', 'ज्यादा', 'देशों', 'बोला', 'जाता', '?', '?']\n",
      "['गौरव', 'जी', 'बताइए', 'बीजेपी', 'पार्टी', 'क्यों', 'ज्वाइन', 'करी', '?']\n",
      "['भारत', 'राजधानी', 'दिल्ली', 'पूर्ण', 'राज्य', 'दर्जा', 'मिलना', 'चाहिए', 'जवाब', 'प्रकट', '?', '?']\n",
      "['हमारे', 'भारत', 'जवान', 'शहीद', 'गए', 'लोग', 'राय', 'दें', 'हमें', 'उन', 'लोगों', 'मुकाबला', 'किस', 'चाहिए', '?', '?']\n",
      "['अधिकांशतः', 'भ्रष्ट', 'नेता', 'इंडिया', 'क्यों', '?']\n",
      "['जम्मू', 'कश्मीर', 'पुलवामा', 'आतंकी', 'हमले', 'पाकिस्तान', 'प्रति', 'हमें', 'कैसा', 'बर्ताव', 'चाहिए', 'क्या', 'कहेंगे', 'जिस', 'हमारे', 'जवान', 'शहीद', 'जवाब', 'सर्जिकल', 'स्ट्राइक', 'देना', 'चाहिए', '?']\n",
      "['आपके', 'अनुसार', 'भारतीय', 'राजनीति', 'किस', 'बड़े', 'सुधार', 'आवश्यकता', '?']\n",
      "['कश्मीर', 'लोग', 'पाकिस्तान', 'देते', 'अब', 'भारत', 'क्या', 'चाहिए', '?']\n",
      "['भारत', 'पाकिस्तान', 'चहिते', 'उनको', 'सरकार', 'सजा', 'देगी', 'नही', '?']\n",
      "['100', '90', 'प्रतिशत', 'मुस्लिम', 'क्यों', 'आतंकवादी']\n",
      "['पुलवामा', 'आतंकवादी', 'हमले', '4', 'दिन', 'बीत', 'गए', 'सरकार', 'आतंकवादियों', 'खिलाफ', 'ठोस', 'कार्रवाई', 'क्यों', '?']\n",
      "['आजकल', 'भारत', 'देश', 'सारे', 'मुद्दे', 'उसमें', 'प्रमुख', 'मुद्दे', 'आतंकवाद', 'बेरोजगारी', 'भ्रष्टाचार', 'प्रदूषण', 'मुद्दे', 'इन', 'मुद्दों', 'किस', 'मुद्दे', 'ज्यादा', 'गंभीर', 'मानते', '?', '?']\n",
      "['भारत', 'जगहों', 'कश्मीरियों', 'निकाला', 'क्योंकि', 'कश्मीरी', 'हमारी', 'सेना', 'खिलाफ', 'पत्थर', 'मारते', 'क्या', 'सही', '?']\n",
      "['लोकसभा', 'चुनाव', 'मद्देनजर', 'भाजपा', 'एआईडीएमके', 'गठबंधन', 'कैसे', 'देखते', '?']\n",
      "['भारत', 'कानून', 'लचीला', '?', 'अगर', 'हां', 'क्यों', '?', '?', 'विस्तार', 'समझाएं', '!']\n",
      "['भारत', 'लोगों', 'पुलिस', 'अच्छे', 'संबंध', 'चलते', '?', 'मुख्य', 'कारण', 'क्या', 'क्या', '!', 'विस्तार', 'समझाएं', '?', '?']\n",
      "['बदनाम', 'किस्से', 'सऊदी', 'रॉयल', 'फैमिली', 'बारे', 'बताएं', '?']\n",
      "['अगर', 'स्मृति', 'ईरानी', 'राहुल', 'गांधी', 'खिलाफ', '2019', 'चुनाव', 'लड़ेंगी', 'क्या', 'राहुल', 'गांधी', 'हरा', 'पाएंगी', '?']\n",
      "['निरंतर', 'रही', 'फौजियों', 'मौत', 'लेकर', 'क्या', 'सरकार', 'बड़ा', 'कदम', 'उठाना', 'चाहिए', 'सब', 'क्या', 'राय', '?', '?']\n",
      "['भारत', 'युवा', 'आज', 'किस', 'दिशा', '!', 'आपके', 'हिसाब', 'बताइए', 'दोस्तों', '?']\n",
      "['क्या', 'बेरोजगार', 'चुनावी', 'मुद्दा', 'बन', 'चुका', '?']\n",
      "['हम', 'हमारे', 'देश', 'अर्थव्यवस्था', 'किस', 'प्रकार', 'मजबूत', 'कृपया', 'राय', 'दीजिए', 'दोस्तो', '?', '?']\n",
      "['आपको', 'क्या', 'लगता', 'कश्मीर', 'आये', 'दिन', 'दगो', 'पीछे', 'राजनीति', 'चाल', 'सकती', 'क्या', '?']\n",
      "['भारत', 'अधिकांश', 'व्यापारी', 'नरेंद्र', 'मोदी', 'क्यों', 'असंतुष्ट', '?']\n",
      "['क्या', 'भारत', 'पाकिस्तान', 'ऊपर', 'परमाणु', 'हमला', 'चाहिये', '?']\n",
      "['नेता', 'बेटे', 'सेना', 'क्यो', 'नही', 'जाते', '?', '?', '?']\n",
      "['भारत', 'बढ़ते', 'ट्रैफिक', 'जाम', 'किस', 'प्रकार', 'देखते', 'ट्रैफिक', 'जाम', 'कम', 'सुझाव', 'दीजिए', '?']\n",
      "['पसकोलं', 'कैसे', 'पैसे', 'आसान', 'कमाए', '?']\n",
      "['आज', 'भारत', 'पाकिस्तान', 'बार', 'बार', 'उंगली', 'दिखा', 'उसे', 'भारत', 'सरकार', 'कब', 'जवाब', 'देगी', 'कैसे', '?']\n",
      "['क्या', 'सच्चाई', 'बात', 'आतंकवादियों', 'अब', 'वाला', 'सफाई', '72000', 'हथियार', 'भारत', 'आने', 'सैनिकों', 'प्रवाह', 'इट', 'जाएगा', '?']\n",
      "['नारी', 'शक्ति', 'क्या', 'समझते', 'कृपया', 'विस्तार', 'बताएं']\n",
      "['शांति', 'भंग', 'मुख्य', 'कारण', 'क्या', 'भारत', 'देश', 'शांति', 'कैसे', 'कायम', '?']\n",
      "['आंतकवाद', 'बड़ी', 'समस्या', 'कैसे', 'खत्म', '?', '?']\n",
      "['नरेंद्र', 'मोदी', 'बराबर', 'नेता', 'हमारे', 'देश', 'राय', 'दीजिए', '?', '?']\n",
      "['अरविंद', 'केजरीवाल', 'क्यों', 'ऐसे', 'नेताओं', 'समर्थन', 'जिनको', 'समय', 'भ्रष्ट', '?']\n",
      "['अगर', 'भाजपा', '2019', 'चुनाव', 'हार', 'जाती', 'भाजपा', 'समर्थक', 'कारण', 'मोदी', 'सरकार', 'कार्य', 'नीति', 'दिशा', 'हीनता', 'मानेंगे', 'महागठबंधन', 'चुनावी', 'समीकरणों', '?']\n",
      "['कूटनीति', 'चाल', 'अलावा', 'सैन्य', 'कार्रवाई', 'कब', 'करेगी', 'भारत', 'सरकार', 'पाकिस्तान', 'खिलाफ', '?']\n",
      "['कांग्रेस', 'सरकार', '70', 'सालो', 'जितना', 'देश', 'पैसा', 'बर्बाद', 'उससे', 'कही', 'ज्यादा', 'भाजपा', 'सरकार', 'शासनकाल', 'देश', 'भ्रस्टाचार', 'देश', 'पैसा', 'लेकर', 'लोग', 'भाग', 'गए', 'जिम्मेदार', 'नरेंद्र', 'मोदी', 'आम', 'जनता', '?']\n",
      "['अनुच्छेद', '35a', 'क्या', '?']\n",
      "['क्या', 'अनुच्छेद', '356', 'हटाया', '?', '?']\n",
      "['हमारे', 'भारतीय', 'नेताओं', 'पाकिस्तान', 'जाने', 'दान', 'आलू', 'टमाटर', 'प्याज', 'अन्य', 'सब्जियों', 'मूल्य', 'बढ़ा', 'क्या', 'पाकिस्तान', 'इन', 'सब', 'देखते', 'इन', 'घिनौनी', 'करतूतों', 'क्या', 'बाहर', 'आ', 'पाएगा', '?', '?']\n",
      "['अरविंद', 'केजरीवाल', 'शुरु', 'धरना', 'पॉलिटिक्स', '?']\n",
      "['दोस्तों', 'क्यूबा', 'मिसाइल', 'संकट', 'कब', 'कहां', 'किन', 'देशों', 'तनावपूर्ण', 'बना']\n",
      "['क्या', 'नरेंद्र', 'मोदी', 'जी', 'लोकप्रियता', 'कमी', 'आई', '2014', 'वाली', 'मोदी', 'लहर', '2019', 'क्यों', 'दिख', 'रही', '?']\n",
      "['माननीय', 'प्रधानमंत्री', 'मोदी', 'जी', 'किसानों', '₹6000', 'प्रति', 'साल', 'कृषि', 'दे', 'क्या', 'अच्छा', 'काम', 'पहली', 'किस्त', '2000', 'रुपया', 'आज', 'किसानों', 'खातों', 'दी', 'जाएगी', '?']\n",
      "['क्या', 'सच', 'मोदी', 'भारत', 'बुरे', 'प्रधानमंत्री', '?']\n",
      "['क्या', 'भारत', 'पाकिस्तान', 'युद्ध', 'चाहिए', '?']\n",
      "['क्या', 'पाकिस्तान', 'सबक', 'सिखना', 'जरूरी', 'ताकि', 'भविष्य', 'गलती', '?']\n",
      "['ब्रह्मांड', 'केंद्र', 'बिंदु', 'क्या', '?']\n",
      "['अरेअच्छा', 'बताओ', 'अगर', 'आपको', 'दूसरी', 'कंट्री', 'जाएगा', 'अमेरिका', 'जाएगा', 'आपको', 'क्या-क्या', 'पड़ेगा', 'बताइए', 'ठीक', 'अगर', 'अमेरिका', 'जाएगा', 'इंडिया', 'भारत', 'भारत', 'भारत', 'अमेरिका', 'जाएगा', 'क्या', 'पड़ेगा', 'ठीक', 'हैभारत', 'अमेरिका', 'जाएगा', 'आदमी', 'क्या', 'पड़ेगा', 'बताइए', 'ठीक', 'अगर', 'मैं', 'गलत', 'बात', 'मुझे', 'माफी', 'दीजिए', '?']\n",
      "['धरने', 'बैठने', 'केजरीवाल', 'जी', 'क्या', 'लाभ', '?']\n",
      "['मोदी', 'जी', 'पाकिस्तान', 'खिलाफ', 'सही', 'गलत', 'आपका', 'क्या', 'मत', '?']\n",
      "['नरेंद्र', 'मोदी', 'जी', 'बोला', 'मैं', 'देश', 'मिटने', 'दूंगा', 'क्या', 'हमें', 'ऊपर', 'यकीन', 'चाहिए', '?']\n",
      "['क्या', 'सच', 'पाकिस्तान', 'भारत', 'प्लेन', 'क्रैश', '?']\n",
      "['अच्छे', 'नेता', 'कौन-कौन', 'गुण', 'चाहिए', '?']\n",
      "['पाकिस्तान', 'हमारे', 'पायलेट', 'पकड़', 'लिया', 'उसे', 'छोड़ने', 'हमारे', 'प्रधानमंत्री', 'क्या', 'शर्त', 'लगाई', '?']\n",
      "['लोक', 'सभा', 'चुनाव', 'ठीक', 'पहले', 'पुललमावा', 'हमला', 'क्या', 'bjp', 'चाल', 'सिर्फ', 'संयोग', '?']\n",
      "['भारत', 'पाकिस्तान', 'झगडे', 'खत्म', 'शांति', 'बनाने', 'तरीका', 'आपको', 'सही', 'लगे', '?']\n",
      "['जमात-ए-इस्लामी', '70', 'ठिकानों', 'सरकार', 'क्यों', 'सील', '?']\n",
      "['क्या', 'मोदी', 'जी', '2019', 'चुनाव', 'जीत', 'पाएंगे', 'कृपया', '2004', 'अटल', 'जी', 'समय', 'ध्यान', 'रखकर', 'बताएं', '?']\n",
      "['दोस्तों', 'हमारे', 'देश', 'नेता', 'देशद्रोही', 'बात', 'दोस्तों', 'हम', 'किस', 'व्यवहार', 'क्या', 'हां', 'अब', 'जनता', 'कैसे', 'देखती', 'इसको', 'नेता', 'महबूबा', 'मुफ्ती', 'ममता', 'बनर्जी', 'पी', 'चिदंबरम', 'दिग्विजय', 'सिंह', 'हर', 'बार', 'सेना', 'सबूत', 'मांगते', 'कैसे', 'देखते', 'इनको', 'राय', 'दें', 'सही', 'बात', 'बताएं', '?']\n",
      "['क्या', 'बिना', 'राजनीतिक', 'इच्छा', 'शक्ति', 'भारतीय', 'सेना', 'देश', 'आतंकवाद', 'खिलाफ', 'कड़ी', 'कार्रवाई', 'सकती', '?']\n",
      "['मुसलमानों', 'बीजेपी', 'सरकार', 'क्या', 'परेशानी', ',', 'जिसकी', 'वजह', 'हमेशा', 'बीजेपी', 'विरोध', '?']\n",
      "['पाकिस्तान', 'बारे', 'चीजे', 'क्या', 'ह', 'अधिकतर', 'भारतीय', 'जानता', '?']\n",
      "['क्या', 'मोदी', 'काल', 'सांप्रदायिक', 'हिंसा', 'घटनाओं', 'वृद्धि', '?', '?']\n",
      "['क्या', 'लोग', 'मोदी', 'जी', 'बार', 'फिर', 'हमारे', 'देश', 'pradhanmantri', 'रूप', 'देखना', 'चाहते', 'mahagadhbandhan', 'आपके', 'क्या', 'विचार', '?']\n",
      "['पाकिस्तान', ',', 'विंग', 'कमांडर', 'अभिनंदन', 'दबाव', 'आकर', 'रिहा', 'भारत', 'डर', 'विचार', 'प्रकट', 'कीजिए', '?']\n",
      "['पाकिस्तान', 'चीन', 'गधे', 'निर्यात', 'फैसला', 'क्यों', 'लिया', '?']\n",
      "['कोंग्रेस', 'केजरीवाल', 'गठबंधन', 'क्यों', 'चाहती', '?']\n",
      "['भी', 'देश', 'नंबर', 'वन', 'कैसे', 'बन', 'जाता', 'क्या', 'वहां', 'लोग', 'नंबर', 'वन', 'पैसा', 'विद्वान', '?']\n",
      "['क्या', 'सच', 'शत्रुघ्न', 'सिन्हा', 'प्रधानमंत्री', 'नरेंद्र', 'मोदी', 'लोकसभा', 'क्षेत्र', 'चुनाव', 'लड़ेंगे', '?']\n"
     ]
    },
    {
     "name": "stdout",
     "output_type": "stream",
     "text": [
      "['कौन', 'तारिक', 'अनवर', 'जिसने', 'एनसीपी', 'टाटा', 'बाय', 'बाय', 'बोल', 'कांग्रेस', 'ज्वाइन', 'लिया', '?']\n",
      "['सरदार', 'वल्लभ', 'भाई', 'पटेल', 'आरएसएस', 'क्यों', 'बैन', 'बावजूद', 'उन्हें', 'बीजेपी', 'इतनी', 'तवज्जो', 'क्यों', 'दे', 'रही', '?']\n",
      "['क्या', 'मोदी', 'सरकार', 'भारत', 'संवैधानिक', 'संस्थाओं', 'ठेस', 'पहुंचाने', 'कोशिश', 'रही', '?']\n",
      "['बिहार', 'भारतीय', 'जनता', 'पार्टी', 'नीतीश', 'अन्य', 'सहयोगी', 'दलों', 'गठबंधन', 'बारे', 'क्या', 'कहना', 'आपका', '?']\n",
      "['2019', 'लोकसभा', 'चुनाव', 'कांग्रेस', 'महाराष्ट्र', 'कौन', 'कौन', 'सी', 'पार्टी', 'गठबंधन', 'करेगी', '?']\n",
      "['राहुल', 'गांधी', 'जनेऊ', 'धारी', 'बीजेपी', 'इतनी', 'दिक्कत', 'क्यों', 'रही', '?']\n",
      "['आपके', 'हिसाब', 'बिहार', 'नेता', 'उपेंद्र', 'कुशवाहा', 'राजनीति', 'कितनी', 'अहमियत', '?']\n",
      "['अंबाती', 'रायडू', 'फॉर्म', 'आ', 'जाने', 'क्या', 'भारत', 'मिडिल', 'ऑर्डर', 'अब', 'स्ट्रांग', 'जाएगा', '?']\n",
      "['मेरठ', 'हाशिमपुरा', 'इलाके', 'ऐसा', 'क्या', 'जिसके', 'चलते', 'दिल्ली', 'हाईकोर्ट', 'पीएसी', '16', 'जवानों', 'उम्र', 'कैद', 'सजा', 'सुना', 'दी', '?']\n",
      "['भारतीय', 'जनता', 'पार्टी', 'राष्ट्रीय', 'अध्यक्ष', 'अमित', 'शाह', 'ऊपर', 'कौन-कौन', 'क्रिमिनल', 'केसेस', '?']\n",
      "['बीजेपी', 'राज्यसभा', 'सांसद', 'राकेश', 'सिन्हा', 'राम', 'मंदिर', 'प्रस्ताव', 'पार्लियामेंट', 'प्राइवेट', 'मेंबर', 'बिल', 'आने', 'बात', 'प्राइवेट', 'मेंबर', 'बिल', 'क्या', '?']\n",
      "['नक्सलियों', 'छत्तीसगढ़', 'किए', 'गए', 'हमलों', 'नक्सलियों', 'क्यों', 'माफी', 'मांगी', '?']\n",
      "['कौन', 'ओम', 'प्रकाश', ',', 'नागमणि', 'बिपिन', '?', 'जिन्होंने', 'पैदा', 'लालू', 'फैमिली', 'तूफान', '?']\n",
      "['योगी', 'आदित्यनाथ', 'दिवाली', 'दिन', 'कौन', 'सी', 'खुशखबरी', 'सुनाने', 'बात', '?']\n",
      "['अयोध्या', 'मंदिर', 'जरूरी', 'अस्पताल', '?']\n",
      "['फैजाबाद', 'नाम', 'बदलकर', 'अयोध्या', 'सही', '?']\n",
      "['मोदी', 'कब', 'झूठ', 'बोलना', 'बंद', 'करेंगे', '?']\n",
      "['भारत', 'जातियों', 'राजनीति', 'कब', 'चलती', 'रहेगी', '?']\n",
      "['क्या', 'राहुल', 'गाँधी', 'झूठ', 'बोलने', 'अलवा', 'आता', '?']\n",
      "['स्वच्छ', 'भारत', 'नाम', 'सरकार', 'करोड़ो', 'रुपये', 'प्रचार', 'लगती', 'क्या', 'सही', '?']\n",
      "['हमारे', 'देश', 'हर', 'मुद्दे', 'राजनीतिक', 'मुद्दा', 'क्यों', 'बनाया', 'जाता', '?']\n",
      "['मौत', 'सौदागर', 'किसने', 'किसे', 'क्यों', '?']\n",
      "['क्या', '2019', 'राम', 'मंदिर', 'बनेगा', '?']\n",
      "['क्या', 'योगी', 'आदित्यनाथ', '?']\n",
      "['भारत', 'वासी', 'धर्म', 'नाम', 'पाखंड', 'अंधविश्वास', 'कब', 'बाहर', 'आयेंगे', '?']\n",
      "['मध्य', 'प्रदेश', 'किसकी', 'जीत', 'होगी', 'कांग्रेस', 'भाजपा', '?']\n",
      "['क्या', 'धर्म', 'राजनीति', 'जरूरी', '?']\n",
      "['राफेल', 'बारे', 'ताजा', 'जानकारी', 'साझा', 'करिए', '?']\n",
      "['क़या', '२०|9', 'मोदी', 'सरकार', 'बनेगी', '?', 'हॉ', 'क़यो', '?', 'फिर', 'कौन', 'बनैगा', '``', '2019', 'ka', 'king', \"''\", '?']\n",
      "['क्या', 'भारत', 'सरकार', 'पूरे', 'इंडिया', 'एक-एक', 'करके', 'एक-एक', 'नागरिक', 'सरकारी', 'नौकरी', 'दे', 'सकती', 'भी', '20000']\n",
      "['``', 'कांग्रेस', '1984', 'anti-sikh', 'दंगों', 'हाथ', \"''\", 'राहुल', 'गाँधी', 'बात', 'कितना', 'सहमत', '?']\n",
      "['राजस्थान', 'किसकी', 'सरकार', 'बनेगी', 'भाजपा', 'कांग्रेस', '?']\n",
      "['सरदार', 'पटेल', 'कांग्रेस', 'नेता', 'भी', 'क्या', 'संघ', 'प्रति', 'रवैया', 'नरम', '?']\n",
      "['आगामी', 'लोकसभा', 'चुनाव', 'आंध्र', 'प्रदेश', 'टीडीपी', 'यानी', 'तेलुगू', 'देशम', 'पार्टी', 'किस', 'पार्टी', '2019', 'गठबंधन', 'करेगी', '?']\n",
      "['अनुपम', 'खेर', 'एफटीआईआई', 'चेयरमैन', 'पद', 'इस्तीफा', 'क्यों', '?']\n",
      "['आर', 'मेंबर', 'भैया', 'जी', 'जोशी', 'राम', 'मंदिर', 'लेकर', 'तीन', 'दिवसीय', 'बैठक', 'क्या', 'बयान', '?']\n",
      "['हरियाणा', 'मुख्यमंत्री', 'रेप', 'ऊपर', 'बयान', 'देते', 'बोला', 'लड़के', 'लड़कियां', 'घूमते', 'दिनों', 'अनबन', 'जाने', 'लड़कियां', 'खुद', 'रेप', 'जिम्मेदार', 'लड़कों', 'ठहरा', 'देती', 'बारे', 'आपका', 'क्या', 'कहना', '?']\n",
      "['बात', 'कितनी', 'सही', 'अनिल', 'अंबानी', 'राफेल', 'पैसे', 'जमीन', 'खरीदी', '?']\n",
      "['आर', 'मदरसों', 'क्या', 'अंतर']\n",
      "['मध्य', 'प्रदेश', 'मुख्यमंत्री', 'कौन', 'बनेगा']\n",
      "['क्या', 'आरक्षण', 'जाति', 'आधार', 'होना', 'सही', '?']\n",
      "['जम्मू', 'कश्मीर', 'महबूबा', 'मुफ्ती', 'क्या', 'कांग्रेस', 'गठबंधन', 'करके', 'सरकार', 'बना', 'पाएगी', '?']\n",
      "['क्या', 'संत', 'बाबाओं', 'राजनीति', 'इंवॉल्व', 'होना', 'सही', '?']\n",
      "['2019', 'मैं', 'केंद्र', 'किसकी', 'सरकार', 'बनेगी', '?']\n",
      "['जीवन', 'जीने', 'क्या', 'जरूरी']\n",
      "['राम', 'मंदिर', 'जमीन', 'अगर', 'स्कूल', 'बना', 'जाए', 'कैसा', 'रहेगा', '?']\n",
      "['क्या', 'राजस्थान', 'कांग्रेस', 'सरकार', 'बननी', 'चाहिए', '?']\n",
      "['क्या', 'कांग्रेस', 'पार्टी', 'मंदिर', 'बनवाने', 'पहल', 'करेगी', '?']\n",
      "['भाजपा', 'सरकार', 'सत्ता', 'हटाने', 'क्या', 'गठबंधन', 'जरूरी', '?']\n",
      "['भारतीय', 'लोकतंत्र', 'उठते', 'विश्वास', 'कायम', 'हमारी', 'राजनीति', 'क्या', 'सुधार', 'किए', 'जाने', 'चाहिए', '?']\n",
      "['क्या', 'नरेंद्र', 'मोदी', 'देश', 'प्रधानमंत्री', '2019', 'बन', 'पाएंगे', '?']\n",
      "['अगले', 'चुनाव', 'मध्य', 'प्रदेश', 'किसकी', 'सरकार', 'बनेगी']\n",
      "['भारत', 'नाम', 'उत्पति', 'किस', 'महा', 'प्रतापी', 'राजा', 'नाम', '?']\n",
      "['2019', 'bjp', 'सरकार', 'बनाएगी', '?']\n",
      "['चुनाव', 'समय', 'प्रत्याशी', 'वोट', 'मगाने', 'आयें', 'तों', 'हमे', 'किस', 'मुद्दे', 'रखना', 'चाहिये', ',', 'सर्वश्रेष्ठ', 'प्रत्याशी', 'चुनाव', 'कैसे', '?']\n",
      "['उत्तर', 'प्रदेश', 'मुख्यमंत्री', 'योगी', 'आदित्यनाथ', 'पिछले', 'दिनों', 'जिलों', 'नाम', 'बदल', 'लेने', 'कितना', 'सार्थक', 'मानते']\n",
      "['मौजूदा', 'हालत', 'हिसाब', 'भारत', 'देश', 'नरेंद्र', 'मोदी', 'अलावा', 'अगर', 'हमें', 'प्रधानमंत्री', 'बनाना', 'पड़े', 'व्यक्ति', 'कौन', '?']\n",
      "['क्या', 'क्या', 'कारण', 'जिसकी', 'वजह', 'रजनीकांत', 'पार्टी', 'भाजपा', 'गठबंधन', 'करेगी', '?']\n",
      "['आज', 'भारत', 'वर्ष', 'ज्वलंत', 'मुद्दा', 'क्या']\n",
      "['क्या', 'नरेंद्र', 'मोदी', 'दोबारा', 'प्रधानमंत्री', 'बनना', 'चाहिए']\n",
      "['क्या', 'विकास', ',', 'शिक्षा', 'स्वास्थ', 'बढ़कर', 'शहरी', 'नामकरण', 'मूर्ति', 'निर्माण', 'अधिक', 'आवश्यक', '?']\n",
      "['मध्य', 'प्रदेश', 'अच्छा', 'नेता', 'कौन', '?']\n",
      "['अमेरिका', 'राष्ट्रपति', 'डोनाल्ड', 'ट्रंप', 'पाकिस्तान', 'बारे', 'ऐसा', 'क्या', 'कह', 'पाकिस्तान', 'प्रधानमंत्री', 'ज्यादा', 'भड़क', 'गए', '?']\n",
      "['कश्मीरी', 'हिन्दुओ', 'कत्लेआम', 'क्या', 'कार्यवाही', 'कितने', 'लोगो', 'न्याय', 'मिला', ',', 'कितने', 'लोगो', 'सजा', 'दी', 'गई', '?']\n",
      "['हमारे', 'राजनेता', 'हमेशा', 'गलत', 'भाषा', 'उपयोग', 'क्यों', '?']\n",
      "['कांग्रेस', 'मध्यप्रदेश', 'ज्योतिराज', 'सिंधिया', 'कमलनाथ', 'अच्छा', 'नेता', 'कौन', 'क्यों', '?']\n",
      "['मेरा', 'सवाल', 'देश', 'राष्ट्रपति', 'दलित', 'हों', 'भारतीय', 'संविधान', 'अनुसार', 'उनको', 'बच्चों', 'आरक्षण', 'मिलना', 'चाहिए', '?']\n",
      "['बार', 'पूर्ण', 'बहुमत', 'किसकी', 'सरकार', 'बनना', 'चाहिए', '?']\n",
      "['बुदनी', 'कोन', 'जीतेगा', '?']\n",
      "['मध्य', 'प्रदेश', 'किसकी', 'सरकार', 'बनेगी', ',', 'कांग्रेस', 'सरकार', 'बनने', 'मुख्यमंत्री', 'कौन', 'बनेगा', '?']\n",
      "['आज', 'समय', 'कौन', 'सी', 'पार्टी', 'ज्वाइन', 'चाहिए', 'राजनीति', '?']\n",
      "['आपकी', 'नज़रों', 'आज', 'सफल', 'प्रधानमंत्री', 'कौन', 'क्यों', '?']\n",
      "['क्या', 'क्या', 'कारण', 'जिसकी', 'वजह', 'मध्य', 'प्रदेश', 'भाजपा', 'सरकार', 'बना', 'पाएगी', '?']\n",
      "['राहुल', 'गांधी', 'ज्योतिराज', 'सिंधिया', 'क्या', 'फर्क', '?']\n",
      "['कौन', 'सी', 'पॉलिटिकल', 'पार्टी', 'आपके', 'व्यक्तित्व', 'मिलती', 'क्यों', '?']\n",
      "['आज', 'राजनीति', 'पहले', 'जानना', 'जरूरी', '?']\n",
      "['क्या', 'नरेंद्र', 'मोदी', 'सच', 'चाचा', 'नेहरू', 'वजह', 'देश', 'प्रधानमंत्री', 'बने', 'ऐसा', 'शशि', 'थरूर', 'कहना', 'बारे', 'आपकी', 'क्या', 'राय', '?']\n",
      "['फर्जी', 'वोटिंग', 'रोकने', 'मतदाता', 'सूची', 'आधार', 'कार्ड', 'लिंक', 'करवाना', 'चाहिए', '?']\n",
      "['पंजाब', 'सरकार', 'मौजूदा', 'मंत्री', 'नवजोत', 'सिंह', 'सिद्धू', 'व्यक्तित्व', 'बारे', 'बताइए', '?']\n",
      "['जम्मू', 'कश्मीर', 'वरिष्ठ', 'नेता', 'राम', 'माधव', 'आरोप', 'लगाया', 'पीडीपी', 'एनसी', 'कांग्रेस', 'पाकिस्तान', 'कहने', 'गठबंधन', 'सरकार', 'बनाना', 'चाह', 'हे', 'क्या', 'कहना', 'ह', 'आपका', '?']\n",
      "['क्या', 'हिन्दुस्तान', 'पाकिस्तान', 'बात', 'करनी', 'चाहिए', 'नही', '?']\n",
      "['भारत', 'बेरोजगारी', 'दूर', 'कैसे', 'होगी', '?']\n",
      "['किसे', 'जीताना', 'चाहते', 'मोदी', 'जी', 'पप्पू', 'जी', '?']\n",
      "['मैं', 'पूछना', 'चाहता', 'हु', 'हम', 'कैसे', 'पता', 'करे', 'कौन', 'सी', 'पार्टी', 'देश', 'अच्छी', 'होगी', '?']\n",
      "['किसको', 'चुनना', 'चाहेंगे', 'शिवराज', 'सिंह', 'चौहान', 'ज्योतिरादित्य', 'सिंधिया', '?']\n",
      "['राजस्थान', 'योगी', 'किसका', 'प्रचार', 'करेंगे', '?', 'यूनुस', 'खान', 'सचिन', 'पायलट']\n",
      "['19', 'चुनाव', 'भी', 'पार्टी', 'अगर', 'फिर', 'जीतती', 'क्या', 'किसानों', 'कर्ज', 'माफ', 'करेगी', '?']\n",
      "['क्या', 'धारा', '370', 'कश्मीर', 'भारत', 'सरकार', 'हटायेगी', '?']\n",
      "['किसानों', 'सरकार', 'पास', 'क्या', 'रणनीति']\n",
      "['मध्य', 'प्रदेश', 'अगला', 'मुख्यमंत्री', 'कौन', 'रहेगा', '?']\n",
      "['अयोध्या', 'मंदिर', 'मस्जिद', 'जिस', 'वैसे', 'मथुरा', 'काशी', 'भी', 'क्या', 'आने', 'टाइम', 'भी', 'विवाद', 'होगा', '?']\n"
     ]
    },
    {
     "name": "stdout",
     "output_type": "stream",
     "text": [
      "['बीजेपी', 'उन', 'मौजूदा', 'सांसदों', 'नाम', 'बताइए', 'जिन्हें', 'आपको', 'लगता', 'उम्र', 'स्वास्थ्य', 'वजह', '2019', 'लोकसभा', 'इलेक्शन', 'लड़', 'पाएंगे', '?']\n",
      "['कितने', 'प्रतिशत', 'लोग', 'मानते', 'मोदी', 'जी', 'दोबारा', 'प्रधानमंत्री', 'बनेंगे', '?']\n",
      "['बुदनी', 'जीतेगा', '?']\n",
      "['मध्यप्रदेश', '2019', 'किसकी', 'सरकार', 'बनेगी', '?']\n",
      "['आज', 'समय', 'किस', 'राजनीति', '?']\n",
      "['क्या', 'राष्ट्रपति', 'कांग्रेस', 'अनुमोदन', 'बिना', 'अल', 'कायदा', 'खिलाफ', 'सैन्य', 'बल', 'अधिकृत', 'सके', '?']\n",
      "['क्या', 'आपको', 'कम्युनिस्ट', 'विचारधारा', 'अच्छी', 'लगती', 'अगर', 'लगती', 'क्या', 'क्या', 'कारण', '?']\n",
      "['क्या', 'लगता', 'मध्य', 'प्रदेश', 'कौन', 'सरकार', 'बनेगी', '?']\n",
      "['अबकी', 'बार', 'राजस्थान', 'कौन', 'सी', 'सरकार', 'बनेगी', 'भाजपा', '?']\n",
      "['भाइयो', 'मुझे', 'बताइये', 'कौन', 'कौन', 'प्रदेश', 'भाजपा', 'सरकार', 'बनेगी']\n",
      "['राजस्थान', 'किसकी', 'सरकार', 'बनेगी', '?']\n",
      "['शिवराज', 'सिंह', 'चौहान', 'व्यक्तित्व', 'बारे', 'राय', 'दीजिए', '?']\n",
      "['मध्यप्रदेश', 'मुख्यमंत्री', 'कोन', 'बनेगा', '?', '?']\n",
      "['हमारे', 'पंतप्रधान', 'नरेंद्र', 'मोदी', 'जी', 'क्यों', 'सपोर्ट']\n",
      "['लोकतंत्र', 'मर्यादा', 'आज', 'ज्यादा', 'किसने', 'पालन', 'भाजपा', 'कांग्रेस', '?']\n",
      "['देश', 'किसान', 'प्रति', 'क्या', 'सोच', '?']\n",
      "['बुरा', 'कौन', '?']\n",
      "['मध्य', 'प्रदेश', 'कितनी', 'विधानसभा', '?']\n",
      "['भ्रष्टाचार', 'कैसे', 'रोका', '?']\n",
      "['आज', 'समय', 'राजनीति', 'क्या', 'मतलब', '?']\n",
      "['माफ', 'करो', 'महाराज', 'हमारा', 'नेता', 'शिवराज', '?']\n",
      "['आज', 'मध्यप्रदेश', 'अनुमानित', 'कितने', 'प्रतिशत', 'मतदान', 'होगा', '?']\n",
      "['कैप्टन', 'अमरिंदर', 'सिंह', 'मना', 'भी', 'नवजोत', 'सिंह', 'सिद्धू', 'पाकिस्तान', 'क्यों', 'गए', '?']\n",
      "['हमारी', 'सरकार', 'भ्रष्टाचार', 'रोकने', 'वोटर', 'आईडी', 'हटाकर', 'आधार', 'कार्ड', 'लिंक', 'क्यों', 'करती']\n",
      "['बात', 'कितनी', 'सच्चाई', 'दिल्ली', 'मुख्यमंत्री', 'अरविंद', 'केजरीवाल', 'खालिस्तान', 'पार्टी', 'फंडिंग', 'ली', '?']\n",
      "['क्या', 'प्रधानमंत्री', 'सीट', 'राहुल', 'दावेदार', '?']\n",
      "['आपने', 'कभी', 'सोचा', 'विधायक', 'क्या', '?', 'विचार', 'दें', '...', '..']\n",
      "['शिवसेना', 'अयोध्या', 'दौरा', 'किस', 'देखते', '?']\n",
      "['इंडियन', 'फ्लैग', 'चक्र', 'उसको', 'लगाने', 'पहले', 'सजेशन', 'किसने', '?']\n",
      "['करतारपुर', 'कॉरिडोर', 'न्यू', 'रखने', 'दौरान', 'पाकिस्तान', 'प्रधानमंत्री', 'इमरान', 'खान', 'कौन', 'सा', 'विवादित', 'बयान', '?']\n",
      "['बार', 'राज्य', 'कौन', 'सी', 'सरकार', 'चाहते', '?']\n",
      "['राजस्थान', 'बीजेपी', 'कितनी', 'सीट', 'मिलेगी']\n",
      "['किस', 'भारतीय', 'प्रधानमन्त्री', 'पाकिस्तान', 'सर्वोच्च', 'सम्मान', 'निशान-ए-पाकिस्तान', 'भारत', 'सर्वोच्च', 'सम्मान', 'भारत', 'रत्न', 'दोनो', 'मिले', '?']\n",
      "['क्या', 'सरकारी', 'क्षेत्र', 'रिटायरमेंट', 'उम्र', '45', 'वर्ष', 'देनी', 'चाहिए']\n",
      "['झालरापाटन', 'मानवेंद्र', 'सिंह', 'जी', 'जीत', 'क्या', '?']\n",
      "['मोदी', 'जी', 'अगला', 'प्रधानमंत्री', 'कौन', 'रहेगा', '?']\n",
      "['कांग्रेस', 'सरकार', 'आ', 'विकास', 'करवाएगी', 'क्या']\n",
      "['पप्पू', 'कौन', '?']\n",
      "['अटेस्टेड', 'लोको', 'पायलट', 'रिजल्ट', 'कब', 'घोषित', 'जाएगा', '?']\n",
      "['उत्तर', 'प्रदेश', 'राजधानी', 'लखनऊ', 'नया', 'हाईकोर्ट', 'बना', 'क्या', 'उसका', 'पूरा', 'श्री', 'अखिलेश', 'यादव', 'फिर', 'मायावती', 'भी', '?']\n",
      "['राहुल', 'गांधी', 'गोत्र', 'सही', 'बताया']\n",
      "['इंडियन', 'सरकार', 'पूछ', 'चाहिए', 'आम', 'आदमी', 'केश', 'कोर्ट', 'फैशला', 'आने', 'सालो', 'चक्कर', 'काटते', 'ओर', 'polticion', 'केश', 'रात', 'कोर्ट', 'ओपन', 'फैशला', 'सुना', 'जाता', '?', 'आखिर', 'आम', 'जनता', 'मरता', 'नेता', 'लोग', 'मौज', 'क्यों']\n",
      "['बीजेपी', 'राष्ट्रीय', 'उपाध्यक्ष', 'प्रभात', 'झा']\n",
      "['भारत', 'प्रधानमंत्री', '2019', 'कौन', 'बनेगा', '?']\n",
      "['राजस्थान', 'कोन', 'कोन', 'कांग्रेस', 'सरकार', 'चाहता', 'क्यों', 'चाहता', '?']\n",
      "['क्लास', '5th', 'बच्चों', 'बाईजू', 'एप', 'कैसी', 'रहेगी', '?']\n",
      "['क्या', 'राजस्थान', 'अगले', 'मुख्यमंत्री', 'सचिन', 'पायलेट', 'होंगे', '?']\n",
      "['राजस्थान', 'सीएम', 'रूप', 'किसे', 'देखना', 'चहोगे', 'क्यों', '?']\n",
      "['एमएलए', 'फुल', 'फॉर्म', 'क्या', '?']\n",
      "['बीजेपी', 'पार्टी', 'कांग्रेस', 'पार्टी', 'कौन', 'सी', 'पार्टी', 'बढ़िया', 'बताएं', '?']\n",
      "['भारत', 'पीएम', 'कौन', 'होगा', 'राहुल', 'गांधी', 'मोदी', '?']\n",
      "['क्या', 'राजस्थान', 'मै', 'फिर', 'बीजेपी', 'सरकार', 'आ', 'रही', '?']\n",
      "['बीजेपी', 'चुनाव', 'चिन्ह', 'क्या', '?']\n",
      "['भारत', 'प्रधानमंत्री', 'कोन', 'होगा', '2019', '?']\n",
      "['क्या', 'नेता', 'दोबारा', 'खड़ा', 'होना', 'चाहिए', '?']\n",
      "['भारत', 'अगला', 'प्रधानमंत्री', 'होगा', '?']\n",
      "['क्या', 'मोदी', 'आने', 'देश', 'विकास', '?']\n",
      "['राजस्थान', 'कौन', 'सी', 'पार्टी', 'सरकार', 'आएगी']\n",
      "['राजस्थान', 'किसकी', 'सरकार', 'बनने', 'रही', 'कांग्रेस', 'बीजेपी', 'अन्य', '?']\n",
      "['2019', 'भारत', 'प्रधानमंत्री', 'कौन', 'बनेगा']\n",
      "['भारत', 'वर्तमान', 'प्रधानमंत्री', 'कौन', '?']\n",
      "['मध्यप्रदेश', 'मुख्\\u200dयमंत्री', 'कोन', 'बनेगा', '?']\n",
      "['भारत', 'प्रथम', 'राष्ट्रपति', '?']\n",
      "['rajasthan', 'ke', 'मुख्यमंत्री', 'रूप', 'किसे', 'चुनना', 'चाहेंगे', '?']\n",
      "['क्या', 'गा', 'अब', 'बार', 'राजंनीति', '?', 'किस', 'गए', 'हार']\n",
      "['मोदी', 'प्रधानमंत्री', 'पद', 'जरूरत', 'नही', 'बल्की', 'हिंदुस्थान', 'प्रधानमंत्री', 'पद', 'मोदी', 'जरूरत', ',', 'क्या', 'सही', '?']\n",
      "['राजस्थान', 'नया', 'मुख्यमंत्री', 'कौन', 'होगा', '?']\n",
      "['राजस्थान', 'कोन', 'गा', 'अब', 'बार', '(', '1', ')', 'b.j.p', '(', '2', ')', 'congress']\n",
      "['भारत', 'देश', 'आपको', 'अच्छा', 'मुख्यमंत्री', 'कौन', 'लगता', 'क्या', 'कारण', '?']\n",
      "['क्या', 'आपको', 'लगता', '2019', 'पहले', 'राम', 'मंदिर', 'बन', 'जाएगा', '?']\n",
      "['क्या', 'बीजेपी', 'सरकार', 'राम', 'मंदिर', 'चुनावी', 'मुद्दा', 'बन', 'रह', '?']\n",
      "['क्या', 'हमे', 'गर्व', 'होना', 'चाहिए', 'हम', 'हिन्दू', '?']\n",
      "['राजस्थान', 'अगला', 'मुख्यमंत्री', 'कौन', 'होगा', '?']\n",
      "['क्या', 'सच', 'नरेंद्र', 'मोदी', 'रैलियों', 'राजस्थान', 'विधानसभा', 'चुनाव', 'भाजपा', 'तरफ', 'आने', 'लगा', '?']\n",
      "['क्या', 'राजस्थान', 'भाजपा', 'सत्ता', 'बचा', 'पायेगी', '?']\n",
      "['शाहपुरा', 'विधानसभा', 'क्षेत्र', 'बीजेपी', 'राव', 'राजेंद्र', 'सिंह', 'जी', 'जनसंपर्क', 'दौरान', 'जन', 'जन', 'ज्यादा', 'उनको', 'भगा', 'जाता', '?']\n",
      "['राज्यवर्धन', 'सिंह', 'राठौर', 'कौन', '?']\n",
      "['भारत', 'बेकार', 'राजनेता', 'आपको', 'कौन', 'लगता', 'क्या', 'कारण', '?']\n",
      "['अगर', 'राजस्थान', 'भारतीय', 'जनता', 'पार्टी', 'सरकार', 'बनती', 'मुख्यमंत्री', 'चेहरा', 'कौन', 'होगा', '?']\n",
      "['क्या', '2019', 'फिर', 'मोदी', 'जी', 'भारत', 'प्रधानमंत्री', 'बनेगे', '?']\n",
      "['आर्मी', 'पूरा', 'नाम', '?']\n",
      "['किस', 'प्रदेश', 'मुख्यमंत्री', 'मामा', 'नाम', 'जाना', 'जाता', '?']\n",
      "['बार', 'कोन', 'जीतेगा', 'राहुल', 'नरेंद्र', 'मोदी', '?']\n",
      "['भारतीय', 'निर्वाचन', 'आयोग', 'नवनियुक्त', 'मुख्य', 'चुनाव', 'आयुक्त', 'कौन', '?']\n",
      "['वोटरों', 'पहुंच', 'बनाने', 'राजनीतिक', 'दलों', 'क्या', 'फेसबुक', 'अच्छा', 'विकल्प']\n",
      "['क्या', 'राहुल', 'गांधी', 'पीएम', 'बनने', 'लायक', '?', 'क्या', 'राहुल', 'गांधी', '30', 'मिनट', 'स्टेज', 'भाषण', 'दे', '?', 'give', 'answer']\n",
      "['मध्यप्रदेश', '2018', 'विधानसभा', 'चुनाव', 'भारतीय', 'जनता', 'पार्टी', '230', 'कितनी', 'सीटे', 'मिलेगी', '?']\n",
      "['गंदगी', 'जाना', 'हर', 'हर', 'लोग', 'पसंद', 'लेकिन', 'वही', 'आदमी', 'गलत', 'बोलते', 'वही', 'अगर', 'पॉलिटिक्स', 'जाना', 'चाहे', 'अंदर', 'गलती', 'जनता', 'पॉलिटिक्स', 'सिस्टम', '?']\n",
      "['राजस्थान', 'किस', 'पार्टी', 'सरकार', 'बनने', 'रही', '?']\n",
      "['क्या', 'राजस्थान', 'कांग्रेस', 'सरकार', 'आएगी', '?']\n",
      "['राजस्थान', 'बीजेपी', 'सरकार', 'बनेगी', '?']\n",
      "['क्या', 'सर्वप्रथम', 'शहरों', 'विकास', 'होना', 'अनिवार्य', 'फिर', 'गांव', '?']\n",
      "['राजस्थान', 'क्या', 'कांग्रेसी', 'आ', 'पाएगी', '?']\n",
      "['राजस्थान', 'कांग्रेस', 'अध्यक्ष', 'कौन', '?']\n",
      "['हनुमान', 'जी', 'ऐसे', 'बोल', 'दिए', ',', 'कल', 'बात', '!', 'डिग्री', 'राफेल', 'ऐसे', 'मुंह', 'छिपा', ',', 'युगों', 'पुरानी', 'बात', '!', 'क्यों', 'गजोधर', '?']\n",
      "['2019', 'देश', 'अगला', 'पीएम', 'कौन', 'होगा']\n",
      "['राजस्थान', 'बार', 'किसकी', 'सरकार', 'बनेगी', 'दम', 'बताओ']\n",
      "['अबकी', 'बार', 'राजस्थान', 'किसकी', 'सरकार', 'बनेगी', '?']\n",
      "['क्या', 'वोटिंग', 'कंपलसरी', 'देना', 'चाहिए', '?']\n",
      "['राजस्थान', 'किस', 'दल', 'सरकार', 'बनेंगी', '?']\n",
      "['पार्टियां', 'धर्म', 'जाति', 'नाम', 'राजनीति', 'लोगों', 'भड़काने', 'काम', 'करती', 'लोग', 'उन', 'पार्टियों', 'विचारधारा', 'क्यों', 'रखते', '?']\n",
      "['क्या', 'कांग्रेस', 'पार्टी', 'राष्ट्रीय', 'नेतृत्व', 'देशद्रोही', '?']\n",
      "['राजस्थान', 'मै', 'किसकी', 'सरकार', 'बनेगी', '?']\n",
      "['मोदी', 'जी', 'ओर', 'राहुल', 'गांधी', 'किसे', 'समर्थन', 'दोगे', 'ओर', 'क्यों', '?']\n",
      "['राजस्थान', '2018', 'किसकी', 'सरकार', 'बनने', 'रही', '?']\n",
      "['2019', 'मोदी', 'सरकार', 'फिर', 'आएगी']\n",
      "['क्या', 'राजस्थान', 'फिर', 'बीजेपी', 'जीत', 'पाएगी', '?']\n",
      "['बार', 'राजस्थान', 'किसकी', 'सरकार', '(', '1', ')', 'भाजपा', '(', '2', ')', 'कांग्रेस']\n",
      "['जनकल्याण', 'हिसाब', 'भारत', 'केसी', 'राजनीति', 'होनी', 'चाहिए', '?']\n",
      "['राजस्थान', 'किसकी', 'सरकार', 'बननी', 'चाहिए', '?', '1', '.', 'कांग्रेस', '2.भारतीय', 'जनता', 'पार्टी']\n"
     ]
    },
    {
     "name": "stdout",
     "output_type": "stream",
     "text": [
      "['राजस्थान', 'किसकी', 'सरकार', '...', 'A', 'कांग्रेस', 'bभाजपा']\n",
      "['हमारा', 'नेता', 'कैसा', '?']\n",
      "['राष्ट्रीय', 'लोकतांत्रिक', 'संस्था', 'क्या', '?']\n",
      "['क्या', 'बजरंग', 'बली', 'राजनीति', 'सही', '?']\n",
      "['राजस्थान', 'किसकी', 'सरकार', 'बनेगी']\n",
      "['राहुल', 'गांधी', 'पप्पू', 'नाम', 'किसने', 'रखा', '?']\n",
      "['क्या', 'राजस्थान', 'वसुंधरा', 'राज्य', 'सरकार', 'बना', 'पाएगी', '?']\n",
      "['क्या', 'देश', 'प्रधानमंत्री', 'राहुल', 'गांधी', 'बनना', 'चाहिए', '?']\n",
      "['राजस्थान', 'अब', 'बार', 'किसकी', 'सरकार', 'बनेगी']\n",
      "['मध्यप्रदेश', 'किसकी', 'बनेगी', 'सरकार', '?']\n",
      "['अगले', 'लोकसभा', 'चुनाव', 'बीजेपी', 'कितनी', 'सीट', 'आएगी']\n",
      "['आदर्श', 'नगर', 'विधानसभा', 'क्षेत्र', 'अगला', 'विधायक', 'कौन', 'होगा', '?']\n",
      "['मध्यप्रदेश', 'छतीसगढ़', 'राजस्थान', 'कौन', 'चुनाव', 'जीत', '?', '?', '?', '?']\n",
      "['2019', 'चुनाव', 'भारत', 'मुख्यमंत्री', 'कौन', 'बनेगा']\n",
      "['राष्ट्रीय', 'लोकतांत्रिक', 'पार्टी', 'किसने', 'बनाई']\n",
      "['क्या', 'चुनाव', 'आयोग', 'ओपिनियन', 'पोल', 'प्रतिबंध', 'लगा', 'देना', 'चाहिए', 'क्यों', '?']\n",
      "['कांग्रेश', 'राज', 'आंतकवादी', 'ताज', 'होटल', 'आ', 'जाते', 'अब', 'घरों', 'घुसकर', 'मारते', 'बोलते', 'bjp', 'क्या']\n",
      "['इंडिया', 'प्रधानमंत्री', 'कौन', '?']\n",
      "['आखिरकार', 'नजर', 'आने', 'कपिल', 'शर्मा', 'डॉ', 'गुलाटी', '(', 'सुनील', 'ग्रोवर', ')', 'विषय', 'आपका', 'क्या', 'कहना', '?']\n",
      "['2.0', 'मूवी', 'आपको', 'कैसी', 'लगी', 'तुम', 'क्योंकि', 'आपको', 'ऐसी', 'कौन', 'सी', 'बात', 'बुरी', 'लगी', 'मूवी', 'मेरे', 'पूरी', 'मूवी', 'अच्छी', 'लगी', 'क्योंकि', 'उसमें', 'पक्षियों', 'बचाने', 'बोला', 'पक्षी', 'क्यों', 'कैसे', 'मर', 'प्लीज', 'मुझे', 'बताइए', 'वीडियो', 'वीडियो', 'आपको', 'क्या', 'बुरा', 'लगा', 'फिल्म', 'अंदर', 'प्लीज', 'मुझे', 'बताएं', '?']\n",
      "['मनोरंजन', 'क्यों', 'आवश्यक', '?', '?']\n",
      "['बॉलीवुड', 'हीरोइन', 'सोनाक्षी', 'सिन्हा', 'प्रोग्राम', '₹3700000', 'मुरादाबाद', 'व्यक्ति', 'लेकिन', 'प्रोग्राम', 'उन्होंने', 'मना', 'व्यक्ति', 'जहर', 'खाकर', 'आत्महत्या', 'ली', 'सोनाक्षी', 'सिन्हा', 'ऊपर', 'केस', 'दर्ज', 'लिया', 'बारे', 'आपके', 'क्या', 'विचार']\n",
      "['भारत', 'किस', 'डॉक्यूमेंट्री', 'फिल्म', 'बार', 'ऑस्कर', 'जीता', '?']\n",
      "['कौनसी', 'फिल्म', 'किताब', 'आपके', 'जीवन', 'हमेशा', 'बदल', 'सकती', '?']\n",
      "['क्या', 'आपको', 'लगता', 'द', 'कपिल', 'शो', 'सिद्धू', 'जी', 'आना', 'चाहिए', '?']\n",
      "['लव', 'यात्री', 'मूवी', 'बॉक्स', 'ऑफिस', 'अच्छा', 'क्यों', 'कमा', 'पा', 'रही', '?']\n",
      "['नाना', 'पाटेकर', 'व्यक्तित्व', 'बारे', 'आपका', 'क्या', 'मानना', '?']\n",
      "['एक्टर', ',', 'सिंगर', 'आयुष्मान', 'खुराना', 'बारे', 'बताइए', 'एक्टिंग', 'आपको', 'कैसी', 'लगती', '?']\n",
      "['मलाइका', 'अरोरा', 'अर्जुन', 'कपूर', 'रिलेशनशिप', 'बारे', 'आपका', 'क्या', 'मानना', '?']\n",
      "['ग्रीन', 'पटाखे', 'क्या', 'बाकी', 'पटाखों', 'कैसे', 'बेहतर']\n",
      "['आज', 'मेरी', 'समझ', 'बात', 'आई', ',', 'कि..', 'खुबसूरत', 'महिलाओं', 'पति', 'अक्सर', \"'\", 'भालू', \"'\", 'क्यों', 'पाये', 'जाते', '?']\n",
      "['बॉलीवुड', 'चल', 'मी', 'टू', 'कैम्पेन', 'क्या', '?']\n",
      "['अगर', 'तुम', 'मिल', 'जाओ', 'जमाना', 'छोड़', 'देंगे', 'हम', 'गाना', 'किसने', 'गाया', 'किस', 'फिल्माया', '?']\n",
      "['सेंसर', 'बोर्ड', 'ए', 'प्रमाण', 'पत्र', 'देने', 'भी', 'फिल्मों', 'अश्लीलता', 'क्यों', '?']\n",
      "['शाहरुख', 'खान', 'आने', 'वाली', 'मूवी', 'जीरो', 'रजनीकांत', '2.0', 'ट्रेलर', 'कैसा', 'लगा', 'आपको', 'दोनों', 'बेहतर', 'कौन', '?']\n",
      "['रणवीर', 'सिंह', 'शादी', 'किसके', '?']\n",
      "['सलमान', 'शादी', 'किस्से', 'होगी', '?', 'कब', 'होगी', '?']\n",
      "['रणवीर', 'सिंह', 'दीपिका', 'पादुकोण', 'क्या', 'इंडिया', 'शादी']\n",
      "['अमेजॉन', 'प्राइम', 'बनाई', 'गई', 'मिर्जापुर', 'सीरीज', 'आपको', 'कैसी', 'लगी', '?']\n",
      "['क्या', '2.0', 'बाहुबली', 'रिकॉर्ड', 'तोड', 'पायेगी', '?']\n",
      "['सलमान', 'खान', 'विवाह', 'कब', 'करेगा', 'किसके', '?']\n",
      "['सुपरस्टार', 'रजनीकांत', 'मूवी', '2.0', 'कैसी', 'सिनेमा', 'हॉल', 'देखने', 'लायक', '?']\n",
      "['फिल्में', 'रिलीज', '2.oमूवी', 'डायरेक्टर', 'हीरो', 'कौन', '?']\n",
      "['रजनी', 'कान्त', 'अश्य', 'कुमार', 'कौनसी', 'फिलम', 'आई', 'हे।', '?']\n",
      "['बोदूजी', 'लुगाई', 'कब', 'आएगी', '?']\n",
      "['आपको', 'क्या', 'लगता', 'छोटी', 'उम्र', 'लड़के', 'शादी', 'करके', 'प्रियंका', 'चोपड़ा', 'शादी', 'चल', 'पाएगी', '?']\n",
      "['जीरो', 'मूवी', 'शाहरुख', 'खान', 'रोल', 'अच्छा', '?']\n",
      "['सुशांत', 'सिंह', 'राजपूत', 'सारा', 'अली', 'खान', 'केदारनाथ', 'फिल्म', ',', 'उत्तराखंड', 'जिलों', 'बैन', 'क्या', 'असर', 'फिल्म', 'पड़ेगा', '?']\n",
      "['बस', 'ऐसे', 'हम', 'लोगों', 'पूछ', 'रणबीर', 'सिंह', 'क्या', 'दीपिका', 'शादी', 'करनी', 'चाहिए', 'आपका', 'क्या', 'राय', '?']\n",
      "['सलमान', 'खान', 'इज', 'द', 'बेस्ट', '?']\n",
      "['आ', 'रही', 'हॉलीवुड', 'नई', 'मूवी', 'इंफिनिटी', 'वर', 'क्या', 'आयरन', 'मैन', 'मर', 'जाएगा', '?']\n",
      "['क्या', 'आपके', 'हिसाब', 'सलमान', 'खान', 'शादी', 'लेनी', 'चाहिए', 'सुझाव', 'दीजिए', '?']\n",
      "['सलमान', 'खान', 'अपकमिंग', 'मूवी', 'कौन', 'सी', '?']\n",
      "['बजरंगी', 'भाईजान', 'मूवी', 'सलमान', 'खान', 'क्या', 'नाम', 'बताते', '?']\n",
      "['सालमान', 'खान', 'पीता', 'कोन', 'हे', '?']\n",
      "['कौन', 'सी', 'मूवी', 'जिसमे', 'अमिताभ', 'बच्चन', 'जितेंद्र', 'काम', 'किए', '?']\n",
      "['कुमकुम', 'भाग्य', 'सीरियल', 'प्रज्ञा', 'असली', 'नाम', 'क्या', '?']\n",
      "['कौन', 'सा', 'एक्टर', 'हिंदुओं', 'ज्यादा', 'सपोर्ट', '?']\n",
      "['भारत', 'ज्यादा', 'पापुलर', 'हीरो', 'कोन', '?']\n",
      "['टोटल', 'धमाल', 'ट्रेलर', 'आपको', 'कैसा', 'लगा', '?']\n",
      "['टाइगर', 'श्रॉफ', 'पहली', 'फिल्म', 'क्या', 'नाम']\n",
      "['नीता', 'बच्चन', 'करोड़पति', 'कैसे', 'बने', '?', '?']\n",
      "['धर्मेंद्र', 'पहली', 'मूवी', 'कौनसी', '?', '?']\n",
      "['सैफ', 'अली', 'खान', 'पहली', 'पत्नी', 'नाम', 'क्या']\n",
      "['करिश्मा', 'कपूर', 'पहला', 'पिक्चर', 'कौन', '?']\n",
      "['भारत', 'कौन', 'गाने', 'ऑस्कर', 'नवाजा', '?', '?']\n",
      "['राजा', 'हिंदुस्तानी', 'मूवी', 'हीरोइन', 'नाम', '?', '?']\n",
      "['धडकन', 'मूवी', 'बेस्ट', 'सॉन्ग', 'कोनसा', '?', '?']\n",
      "['मोनी', 'रॉय', 'पहली', 'फिल्म', 'कौन', 'सी', '?']\n",
      "['बॉलीवुड', 'बोल्ड', 'अभिनेत्री', 'कौन', 'सी', '?']\n",
      "['फिल्म', 'स्टार', 'सलमान', 'खान', 'सुपरस्टार', 'हीरो', 'बोलता', 'फुल', 'चाहिए', '?']\n",
      "['बार', 'कौन', 'सी', 'फिल्म', 'हिट', 'होगी', '?']\n",
      "['सलमान', 'खान', 'पहली', 'मूवी', 'कौन', 'सी', '?']\n",
      "['क्या', 'उरी', 'मूवी', '200', 'क्लब', 'शामिल', 'पाएगी', 'विचार', 'व्यक्त', 'कीजिए', '?']\n",
      "['तेरी', 'गलियों', 'रखेंगे', 'कदम', 'कौन', 'सी', 'मूवी', 'सॉन्ग', '?']\n",
      "['मटक', 'कली', 'मटक', 'कली', 'कौन', 'सा', 'मूवी', 'सॉन्ग']\n",
      "['आजकल', 'हिन्दी', 'फिल्मे', 'ठीक', 'पुरानी', 'फील्मे', 'ठीक']\n",
      "['सिंबा', 'मूवी', 'कैसी', '?']\n",
      "['ज्यादा', 'करो', 'रुपए', 'कमाने', 'वाली', 'मूवी', 'कौन', 'सी', '?']\n",
      "['बढ़िया', 'पिक्चर', 'कौन', 'सी', 'लगी', 'थिएटर', '?']\n",
      "['क्या', 'साल', 'भी', 'तीनों', 'खानों', 'पिक्चरें', 'फ्रॉक', 'जाएंगे', '?']\n",
      "['सी', 'ऐसी', 'मूवी', 'नाम', 'बताओ', 'जिसमे', 'अमिताभ', 'बच्चन', 'लोगों', 'सामान', 'उठाने', 'काम', 'करा', 'हे', '?']\n",
      "['तेरे', 'नाम', 'कौन', 'सा', 'हीरो', 'पाया', 'जाता', '?']\n",
      "['आपके', 'अच्छे', 'अभिनेता', 'कोनसे', '?']\n",
      "['शाहरुख', 'खान', 'जीरो', 'सिनेमा', 'डायरेक्टर', 'कौन', '?']\n",
      "['हु', 'इज', 'द', 'किंग', 'ऑफ', 'बॉलीवुड', '?']\n",
      "['बॉलीवुड', 'किसके', 'पास', 'संपत्ति', 'ज्यादा']\n",
      "['रणबीर', 'सिंह', 'सिंबा', 'आपको', 'क्यों', 'पसंद', 'आए', '?']\n"
     ]
    }
   ],
   "source": [
    "P = []\n",
    "Final_text = [text for text in data['Question']]\n",
    "\n",
    "P = preprocessing(Final_text,True,True)"
   ]
  },
  {
   "cell_type": "code",
   "execution_count": 865,
   "metadata": {},
   "outputs": [
    {
     "data": {
      "text/plain": [
       "0      ['क्या', 'बीजेपी', 'प्रियंका', 'टक्कर', 'वरुण'...\n",
       "1      ['narand', 'modi', 'ji', 'ka', 'speech', 'aapk...\n",
       "2      ['क्या', 'ममता', 'बनर्जी', 'धरने', 'बैठने', 'फ...\n",
       "3       ['भारत', 'राजनीति', 'घटिया', 'आदमी', 'कौन', '?']\n",
       "4      ['अरविंद', 'केजरीवाल', 'प्रधानमंत्री', 'मोदी',...\n",
       "5      ['पीएम', 'मोदी', 'राफेल', 'सौदे', 'जुड़े', 'वि...\n",
       "6      ['सपा', 'बसपा', 'गठबंधन', 'कॉन्ग्रेस', 'भी', '...\n",
       "7      ['हिंदू-मुसलमान', 'विवाद', 'देश', 'किस', 'प्रक...\n",
       "8      ['कौन', 'सा', 'भाषा', 'सब', 'ज्यादा', 'देशों',...\n",
       "9      ['गौरव', 'जी', 'बताइए', 'बीजेपी', 'पार्टी', 'क...\n",
       "10     ['भारत', 'राजधानी', 'दिल्ली', 'पूर्ण', 'राज्य'...\n",
       "11     ['हमारे', 'भारत', 'जवान', 'शहीद', 'गए', 'लोग',...\n",
       "12     ['अधिकांशतः', 'भ्रष्ट', 'नेता', 'इंडिया', 'क्य...\n",
       "13     ['जम्मू', 'कश्मीर', 'पुलवामा', 'आतंकी', 'हमले'...\n",
       "14     ['आपके', 'अनुसार', 'भारतीय', 'राजनीति', 'किस',...\n",
       "15     ['कश्मीर', 'लोग', 'पाकिस्तान', 'देते', 'अब', '...\n",
       "16     ['भारत', 'पाकिस्तान', 'चहिते', 'उनको', 'सरकार'...\n",
       "17     ['100', '90', 'प्रतिशत', 'मुस्लिम', 'क्यों', '...\n",
       "18     ['पुलवामा', 'आतंकवादी', 'हमले', '4', 'दिन', 'ब...\n",
       "19     ['आजकल', 'भारत', 'देश', 'सारे', 'मुद्दे', 'उसम...\n",
       "20     ['भारत', 'जगहों', 'कश्मीरियों', 'निकाला', 'क्य...\n",
       "21     ['लोकसभा', 'चुनाव', 'मद्देनजर', 'भाजपा', 'एआईड...\n",
       "22     ['भारत', 'कानून', 'लचीला', '?', 'अगर', 'हां', ...\n",
       "23     ['भारत', 'लोगों', 'पुलिस', 'अच्छे', 'संबंध', '...\n",
       "24     ['बदनाम', 'किस्से', 'सऊदी', 'रॉयल', 'फैमिली', ...\n",
       "25     ['अगर', 'स्मृति', 'ईरानी', 'राहुल', 'गांधी', '...\n",
       "26     ['निरंतर', 'रही', 'फौजियों', 'मौत', 'लेकर', 'क...\n",
       "27     ['भारत', 'युवा', 'आज', 'किस', 'दिशा', '!', 'आप...\n",
       "28     ['क्या', 'बेरोजगार', 'चुनावी', 'मुद्दा', 'बन',...\n",
       "29     ['हम', 'हमारे', 'देश', 'अर्थव्यवस्था', 'किस', ...\n",
       "                             ...                        \n",
       "338     ['भारत', 'ज्यादा', 'पापुलर', 'हीरो', 'कोन', '?']\n",
       "339    ['टोटल', 'धमाल', 'ट्रेलर', 'आपको', 'कैसा', 'लग...\n",
       "340    ['टाइगर', 'श्रॉफ', 'पहली', 'फिल्म', 'क्या', 'न...\n",
       "341    ['नीता', 'बच्चन', 'करोड़पति', 'कैसे', 'बने', '...\n",
       "342     ['धर्मेंद्र', 'पहली', 'मूवी', 'कौनसी', '?', '?']\n",
       "343    ['सैफ', 'अली', 'खान', 'पहली', 'पत्नी', 'नाम', ...\n",
       "344    ['करिश्मा', 'कपूर', 'पहला', 'पिक्चर', 'कौन', '?']\n",
       "345    ['भारत', 'कौन', 'गाने', 'ऑस्कर', 'नवाजा', '?',...\n",
       "346    ['राजा', 'हिंदुस्तानी', 'मूवी', 'हीरोइन', 'नाम...\n",
       "347    ['धडकन', 'मूवी', 'बेस्ट', 'सॉन्ग', 'कोनसा', '?...\n",
       "348    ['मोनी', 'रॉय', 'पहली', 'फिल्म', 'कौन', 'सी', ...\n",
       "349    ['बॉलीवुड', 'बोल्ड', 'अभिनेत्री', 'कौन', 'सी',...\n",
       "350    ['फिल्म', 'स्टार', 'सलमान', 'खान', 'सुपरस्टार'...\n",
       "351    ['बार', 'कौन', 'सी', 'फिल्म', 'हिट', 'होगी', '?']\n",
       "352    ['सलमान', 'खान', 'पहली', 'मूवी', 'कौन', 'सी', ...\n",
       "353    ['क्या', 'उरी', 'मूवी', '200', 'क्लब', 'शामिल'...\n",
       "354    ['तेरी', 'गलियों', 'रखेंगे', 'कदम', 'कौन', 'सी...\n",
       "355    ['मटक', 'कली', 'मटक', 'कली', 'कौन', 'सा', 'मूव...\n",
       "356    ['आजकल', 'हिन्दी', 'फिल्मे', 'ठीक', 'पुरानी', ...\n",
       "357                       ['सिंबा', 'मूवी', 'कैसी', '?']\n",
       "358    ['ज्यादा', 'करो', 'रुपए', 'कमाने', 'वाली', 'मू...\n",
       "359    ['बढ़िया', 'पिक्चर', 'कौन', 'सी', 'लगी', 'थिएट...\n",
       "360    ['क्या', 'साल', 'भी', 'तीनों', 'खानों', 'पिक्च...\n",
       "361    ['सी', 'ऐसी', 'मूवी', 'नाम', 'बताओ', 'जिसमे', ...\n",
       "362    ['तेरे', 'नाम', 'कौन', 'सा', 'हीरो', 'पाया', '...\n",
       "363           ['आपके', 'अच्छे', 'अभिनेता', 'कोनसे', '?']\n",
       "364    ['शाहरुख', 'खान', 'जीरो', 'सिनेमा', 'डायरेक्टर...\n",
       "365      ['हु', 'इज', 'द', 'किंग', 'ऑफ', 'बॉलीवुड', '?']\n",
       "366     ['बॉलीवुड', 'किसके', 'पास', 'संपत्ति', 'ज्यादा']\n",
       "367    ['रणबीर', 'सिंह', 'सिंबा', 'आपको', 'क्यों', 'प...\n",
       "Name: finalnew, Length: 368, dtype: object"
      ]
     },
     "execution_count": 865,
     "metadata": {},
     "output_type": "execute_result"
    }
   ],
   "source": [
    "data['finalnew']"
   ]
  },
  {
   "cell_type": "code",
   "execution_count": 828,
   "metadata": {},
   "outputs": [],
   "source": [
    "#data=data.drop([367],axis=0)"
   ]
  },
  {
   "cell_type": "code",
   "execution_count": 866,
   "metadata": {},
   "outputs": [],
   "source": [
    "# Model Selection\n",
    "from sklearn import model_selection, naive_bayes, svm\n",
    "\n",
    "Train_X, Test_X, Train_Y, Test_Y = model_selection.train_test_split(data['finalnew'],data['Category'],test_size=0.25)"
   ]
  },
  {
   "cell_type": "code",
   "execution_count": 867,
   "metadata": {},
   "outputs": [
    {
     "data": {
      "text/plain": [
       "TfidfVectorizer(analyzer='word', binary=False, decode_error='strict',\n",
       "        dtype=<class 'numpy.float64'>, encoding='utf-8', input='content',\n",
       "        lowercase=True, max_df=1.0, max_features=5000, min_df=1,\n",
       "        ngram_range=(1, 1), norm='l2', preprocessor=None, smooth_idf=True,\n",
       "        stop_words=None, strip_accents=None, sublinear_tf=False,\n",
       "        token_pattern='(?u)\\\\b\\\\w\\\\w+\\\\b', tokenizer=None, use_idf=True,\n",
       "        vocabulary=None)"
      ]
     },
     "execution_count": 867,
     "metadata": {},
     "output_type": "execute_result"
    }
   ],
   "source": [
    "Tfidf_vect = TfidfVectorizer(max_features=5000)\n",
    "Tfidf_vect.fit(data['finalnew'])"
   ]
  },
  {
   "cell_type": "code",
   "execution_count": 868,
   "metadata": {},
   "outputs": [],
   "source": [
    "# Vectorize Training and Test data\n",
    "Train_X_Tfidf = Tfidf_vect.transform(Train_X)\n",
    "Test_X_Tfidf = Tfidf_vect.transform(Test_X)"
   ]
  },
  {
   "cell_type": "code",
   "execution_count": 869,
   "metadata": {},
   "outputs": [
    {
     "name": "stdout",
     "output_type": "stream",
     "text": [
      "{'टक': 218, 'कर': 164, 'वर': 404, 'खड': 176, 'narand': 38, 'modi': 37, 'ji': 30, 'ka': 31, 'speech': 44, 'aapko': 23, 'ksa': 34, 'lgta': 35, 'ममत': 331, 'बनर': 303, 'धरन': 251, 'ठन': 225, 'यद': 343, 'रत': 370, 'जन': 205, 'घट': 190, 'आदम': 85, 'अरव': 65, 'जर': 212, 'रध': 373, 'नम': 261, 'इतन': 106, 'लगत': 385, 'एम': 140, 'पक': 274, 'सव': 452, 'जव': 214, 'सप': 435, 'बसप': 310, 'गठब': 183, 'धन': 248, 'जप': 209, 'कमज': 162, 'पड': 277, 'एग': 135, 'आपक': 89, 'सलम': 451, 'रक': 356, 'सब': 438, 'रव': 379, 'बत': 296, 'इए': 100, 'इन': 107, 'जध': 204, 'दर': 244, 'लन': 389, 'रकट': 357, 'हम': 462, 'शह': 420, 'गए': 181, 'उन': 122, 'बल': 308, 'अध': 53, 'शत': 411, 'रष': 380, 'जम': 210, 'कश': 172, 'लव': 395, 'आत': 83, 'हमल': 463, 'बर': 306, 'कह': 174, 'सर': 447, 'कल': 170, 'इक': 101, 'अन': 54, 'बड': 294, 'आवश': 98, 'यकत': 340, 'अब': 58, 'चह': 198, 'उनक': 123, 'सरक': 448, 'सज': 430, 'नह': 272, '100': 0, '90': 22, 'कव': 171, 'आजकल': 82, 'उसम': 130, 'रम': 378, 'जग': 202, 'रद': 372, 'षण': 422, 'नत': 259, 'जगह': 203, 'पत': 278, 'थर': 238, 'सह': 453, 'कसभ': 173, 'मद': 326, 'नजर': 257, 'एआईड': 133, 'एमक': 142, 'खत': 177, 'लच': 386, 'अगर': 48, 'समझ': 442, 'अच': 50, 'चलत': 197, 'रण': 366, 'बदन': 297, 'सऊद': 424, 'यल': 349, 'ईर': 118, '2019': 10, 'लड़': 397, 'हर': 464, 'तर': 233, 'रह': 382, 'कदम': 156, 'उठ': 119, 'आज': 81, 'बन': 300, 'अर': 64, 'थव': 239, 'यवस': 353, 'मजब': 320, 'पय': 282, 'आय': 92, 'दग': 240, 'सकत': 426, 'नर': 264, 'अस': 69, 'ऊपर': 132, 'परम': 284, 'बढ': 295, 'कम': 161, 'पसक': 288, 'आस': 99, 'गल': 188, 'उस': 128, 'कब': 159, 'सच': 429, 'सफ': 436, '72000': 21, 'हथ': 459, 'आन': 88, 'इट': 105, 'शक': 409, 'समझत': 443, 'यम': 346, 'तकव': 228, 'समस': 446, 'ऐस': 144, 'समर': 445, 'थन': 237, 'नक': 254, 'समय': 444, 'थक': 236, 'मह': 336, 'सम': 441, 'करण': 166, 'टन': 220, 'अल': 66, '70': 20, 'तन': 230, 'उसस': 131, 'सनक': 434, 'रस': 381, 'आम': 91, 'जनत': 207, '35a': 14, '356': 13, 'हट': 456, 'आल': 97, 'टम': 221, 'टर': 222, 'करत': 167, 'इल': 112, 'कट': 152, 'वप': 403, 'कप': 158, 'यत': 342, 'आई': 73, '2014': 8, 'लहर': 396, 'नन': 260, '6000': 19, 'पहल': 290, '2000': 5, 'सबक': 439, 'खन': 178, 'भव': 315, 'गलत': 189, 'अम': 61, 'मत': 322, 'यक': 339, 'पकड': 275, 'शर': 416, 'लग': 384, 'सभ': 440, 'ललम': 394, 'bjp': 26, 'झगड': 217, 'इस': 114, '2004': 7, 'अटल': 52, 'रखकर': 359, 'शद': 412, 'यवह': 354, 'इसक': 115, 'महब': 338, 'बरम': 307, 'जय': 211, 'गत': 184, 'इनक': 108, 'इच': 103, 'कड': 153, 'पर': 283, 'सक': 425, 'वजह': 400, 'कतर': 155, 'घटन': 191, 'pradhanmantri': 41, 'हत': 457, 'mahagadhbandhan': 36, 'डर': 227, 'अभ': 60, 'दन': 241, 'दब': 242, 'आकर': 78, 'गध': 185, 'सल': 450, 'वन': 402, 'वह': 408, 'लड': 387, 'अनवर': 56, 'सन': 433, 'एनस': 137, 'सरद': 449, 'वल': 405, 'लभ': 391, 'पट': 276, 'आरएसएस': 95, 'वज': 399, 'तवज': 235, 'पह': 289, 'सहय': 455, 'दल': 245, 'कहन': 175, 'कत': 154, 'उप': 124, 'शव': 418, 'अहम': 72, 'यड': 341, 'ऑर': 146, 'रठ': 365, 'मप': 330, 'ईक': 116, 'एस': 143, '16': 1, 'उम': 126, 'नल': 266, 'यसभ': 355, 'सद': 432, 'इव': 113, 'छत': 199, 'सगढ': 428, 'ओम': 150, 'गमण': 186, 'आद': 84, 'यन': 344, 'शखबर': 410, 'अय': 63, 'बदलकर': 299, 'अलव': 67, 'वच': 398, 'रच': 362, 'गर': 187, 'धर': 250, 'धव': 252, 'मध': 328, '२०': 465, 'king': 33, 'एक': 134, 'करक': 165, '20000': 6, '1984': 3, 'anti': 25, 'sikh': 43, 'सहमत': 454, 'जस': 215, 'नरम': 265, 'आग': 80, 'शम': 415, 'पम': 281, 'एफट': 139, 'आईआई': 74, 'यरम': 348, 'पद': 279, 'आर': 94, 'वस': 407, 'ठक': 224, 'बय': 305, 'अनबन': 55, 'ठहर': 226, 'खर': 179, 'मदरस': 327, 'आरक': 96, 'आध': 87, 'बनन': 302, 'बनव': 304, 'सत': 431, 'उठत': 120, 'अगल': 49, 'उत': 121, 'मग': 319, 'रखन': 361, 'वश': 406, 'छल': 201, 'बदल': 298, 'लत': 388, 'रजन': 364, 'बढ़कर': 312, 'शहर': 421, 'मकरण': 318, 'रपत': 376, 'भड': 314, 'यव': 351, 'गई': 180, 'उपय': 125, 'यप': 345, 'कमलन': 163, 'बच': 292, 'बह': 311, 'नज': 256, 'सफल': 437, 'फर': 291, 'शश': 419, 'कन': 157, 'मतद': 323, 'करव': 169, 'नवज': 268, 'करन': 168, 'पप': 280, 'छन': 200, 'यलट': 350, '19': 2, 'तत': 229, '370': 15, 'रणन': 367, 'मस': 335, 'मथ': 325, 'इम': 109, 'शन': 413, 'अबक': 59, 'इय': 111, 'तप': 231, 'मर': 332, 'नसभ': 271, 'मतलब': 324, 'अमर': 62, 'मन': 329, 'आईड': 75, 'आपन': 90, 'कभ': 160, 'चक': 193, 'उसक': 129, 'रप': 375, 'इमर': 110, 'नमन': 262, '45': 17, 'लर': 393, 'नव': 267, 'अट': 51, 'जल': 213, 'लखनऊ': 383, 'नय': 263, 'अख': 47, 'दव': 246, 'वत': 401, 'शल': 417, 'टत': 219, 'ओर': 151, 'polticion': 40, 'ओपन': 149, 'आख': 79, 'मरत': 333, 'रभ': 377, '5th': 18, 'ईज': 117, 'एप': 138, 'एमएलए': 141, 'आएग': 77, 'तम': 232, 'u200dयम': 45, 'रथम': 371, 'rajasthan': 42, 'ke': 32, 'congress': 28, 'तरफ': 234, 'हप': 461, 'जनस': 208, 'भग': 313, 'यवर': 352, 'बनत': 301, 'चन': 194, 'नवन': 269, '30': 12, 'नट': 258, 'give': 29, 'answer': 24, '2018': 9, '230': 11, 'पस': 287, 'हन': 460, 'गज': 182, 'दम': 243, 'पलसर': 286, 'भड़क': 316, 'रखत': 360, 'जनकल': 206, 'bभ': 27, 'बजर': 293, 'रख': 358, 'आदर': 86, 'नगर': 255, 'ओप': 148, 'टल': 223, 'घर': 192, 'सकर': 427, 'षय': 423, '3700000': 16, 'जहर': 216, 'महत': 337, 'ऑस': 147, 'नस': 270, 'ऑफ': 145, 'मल': 334, 'शनश': 414, 'हतर': 458, 'बस': 309, 'अक': 46, 'चल': 196, 'अश': 68, 'रणव': 369, 'परस': 285, 'oम': 39, 'यर': 347, 'लम': 392, 'रन': 374, 'असर': 70, 'रणब': 368, 'इज': 104, 'नई': 253, 'आयरन': 93, 'अपकम': 57, 'मक': 317, 'रज': 363, 'असल': 71, 'धम': 249, 'इगर': 102, 'चर': 195, 'धडकन': 247, 'उर': 127, '200': 4, 'लब': 390, 'मटक': 321, 'पए': 273, 'एटर': 136, 'आए': 76}\n"
     ]
    }
   ],
   "source": [
    "print(Tfidf_vect.vocabulary_)"
   ]
  },
  {
   "cell_type": "code",
   "execution_count": 870,
   "metadata": {},
   "outputs": [
    {
     "data": {
      "text/plain": [
       "MultinomialNB(alpha=1.0, class_prior=None, fit_prior=True)"
      ]
     },
     "execution_count": 870,
     "metadata": {},
     "output_type": "execute_result"
    }
   ],
   "source": [
    "# fit the training dataset on the NB classifier\n",
    "\n",
    "Naive = naive_bayes.MultinomialNB()\n",
    "Naive.fit(Train_X_Tfidf,Train_Y)"
   ]
  },
  {
   "cell_type": "code",
   "execution_count": 871,
   "metadata": {},
   "outputs": [],
   "source": [
    "# predict the labels on validation dataset\n",
    "\n",
    "predictions_NB = Naive.predict(Test_X_Tfidf)\n"
   ]
  },
  {
   "cell_type": "code",
   "execution_count": 872,
   "metadata": {},
   "outputs": [
    {
     "name": "stdout",
     "output_type": "stream",
     "text": [
      "Naive Bayes Accuracy Score ->  86.95652173913044\n"
     ]
    }
   ],
   "source": [
    "# Use accuracy_score function to get the accuracy\n",
    "\n",
    "print(\"Naive Bayes Accuracy Score -> \",accuracy_score(predictions_NB, Test_Y)*100)"
   ]
  },
  {
   "cell_type": "code",
   "execution_count": 873,
   "metadata": {},
   "outputs": [
    {
     "data": {
      "image/png": "[encoded data removed]",
      "text/plain": [
       "<Figure size 432x288 with 2 Axes>"
      ]
     },
     "metadata": {
      "needs_background": "light"
     },
     "output_type": "display_data"
    }
   ],
   "source": [
    "# Confusion matrix for Naive Bayes\n",
    "\n",
    "from sklearn import metrics\n",
    "Naive_Bayes_conf_matrix       = metrics.confusion_matrix(predictions_NB, Test_Y)\n",
    "sns.heatmap(Naive_Bayes_conf_matrix, annot=True,  fmt='');\n",
    "title = 'Naive Bayes'\n",
    "plt.title(title);"
   ]
  },
  {
   "cell_type": "code",
   "execution_count": 874,
   "metadata": {},
   "outputs": [
    {
     "name": "stdout",
     "output_type": "stream",
     "text": [
      "Naive Bayes Classifier:\n",
      "               precision    recall  f1-score   support\n",
      "\n",
      "         2.0       1.00      0.86      0.93        88\n",
      "         3.0       0.25      1.00      0.40         4\n",
      "\n",
      "   micro avg       0.87      0.87      0.87        92\n",
      "   macro avg       0.62      0.93      0.66        92\n",
      "weighted avg       0.97      0.87      0.90        92\n",
      "\n",
      "\n"
     ]
    }
   ],
   "source": [
    "# Classification report for Naive Bayes\n",
    "\n",
    "print('Naive Bayes Classifier:\\n {}\\n'.format(metrics.classification_report(predictions_NB,Test_Y)))\n"
   ]
  },
  {
   "cell_type": "code",
   "execution_count": 875,
   "metadata": {},
   "outputs": [
    {
     "name": "stdout",
     "output_type": "stream",
     "text": [
      "SVM Accuracy Score ->  85.86956521739131\n"
     ]
    }
   ],
   "source": [
    "# fit the training dataset on the classifier\n",
    "\n",
    "SVM = svm.SVC(C=1.0, kernel='linear', degree=3, gamma='auto')\n",
    "SVM.fit(Train_X_Tfidf,Train_Y)\n",
    "\n",
    "# predict the labels on validation dataset\n",
    "\n",
    "predictions_SVM = SVM.predict(Test_X_Tfidf)\n",
    "\n",
    "# Use accuracy_score function to get the accuracy\n",
    "\n",
    "print(\"SVM Accuracy Score -> \",accuracy_score(predictions_SVM, Test_Y)*100)"
   ]
  },
  {
   "cell_type": "code",
   "execution_count": 876,
   "metadata": {},
   "outputs": [
    {
     "data": {
      "image/png": "[encoded data removed]",
      "text/plain": [
       "<Figure size 432x288 with 2 Axes>"
      ]
     },
     "metadata": {
      "needs_background": "light"
     },
     "output_type": "display_data"
    }
   ],
   "source": [
    "# Confusion matrix for SVM\n",
    "from sklearn import metrics\n",
    "svm_svc_conf_matrix       = metrics.confusion_matrix(predictions_SVM, Test_Y)\n",
    "sns.heatmap(svm_svc_conf_matrix, annot=True,  fmt='');\n",
    "title = 'SVM'\n",
    "plt.title(title);"
   ]
  },
  {
   "cell_type": "code",
   "execution_count": 877,
   "metadata": {},
   "outputs": [
    {
     "name": "stdout",
     "output_type": "stream",
     "text": [
      "SVM Classifier:\n",
      "               precision    recall  f1-score   support\n",
      "\n",
      "         2.0       0.95      0.89      0.92        81\n",
      "         3.0       0.44      0.64      0.52        11\n",
      "\n",
      "   micro avg       0.86      0.86      0.86        92\n",
      "   macro avg       0.69      0.76      0.72        92\n",
      "weighted avg       0.89      0.86      0.87        92\n",
      "\n",
      "\n"
     ]
    }
   ],
   "source": [
    "# Classification Report for SVM\n",
    "\n",
    "print('SVM Classifier:\\n {}\\n'.format(metrics.classification_report(predictions_SVM,Test_Y)))\n"
   ]
  },
  {
   "cell_type": "code",
   "execution_count": null,
   "metadata": {},
   "outputs": [],
   "source": []
  }
 ],
 "metadata": {
  "kernelspec": {
   "display_name": "Python 3",
   "language": "python",
   "name": "python3"
  },
  "language_info": {
   "codemirror_mode": {
    "name": "ipython",
    "version": 3
   },
   "file_extension": ".py",
   "mimetype": "text/x-python",
   "name": "python",
   "nbconvert_exporter": "python",
   "pygments_lexer": "ipython3",
   "version": "3.6.8"
  }
 },
 "nbformat": 4,
 "nbformat_minor": 2
}
